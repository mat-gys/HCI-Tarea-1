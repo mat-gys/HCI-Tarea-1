{
  "nbformat": 4,
  "nbformat_minor": 0,
  "metadata": {
    "colab": {
      "name": "Tarea1 - Casiano, Gomez Seeber.ipynb",
      "provenance": [],
      "authorship_tag": "ABX9TyNgzmIa8xz9AIHl0koArEEx",
      "include_colab_link": true
    },
    "kernelspec": {
      "name": "python3",
      "display_name": "Python 3"
    },
    "language_info": {
      "name": "python"
    }
  },
  "cells": [
    {
      "cell_type": "markdown",
      "metadata": {
        "id": "view-in-github",
        "colab_type": "text"
      },
      "source": [
        "<a href=\"https://colab.research.google.com/github/mat-gys/HCI-Tarea-1/blob/main/Tarea1%20-%20Casiano%2C%20Gomez_Seeber.ipynb\" target=\"_parent\"><img src=\"https://colab.research.google.com/assets/colab-badge.svg\" alt=\"Open In Colab\"/></a>"
      ]
    },
    {
      "cell_type": "code",
      "execution_count": null,
      "metadata": {
        "id": "0-X-WYWxl2RI"
      },
      "outputs": [],
      "source": [
        ""
      ]
    }
  ]
}